{
 "cells": [
  {
   "cell_type": "markdown",
   "id": "ffd54e5c",
   "metadata": {},
   "source": [
    "# wradlib introduction"
   ]
  },
  {
   "cell_type": "markdown",
   "id": "3bf46aa2",
   "metadata": {},
   "source": [
    "Testing notebook processing"
   ]
  },
  {
   "cell_type": "code",
   "execution_count": null,
   "id": "f378cadd",
   "metadata": {},
   "outputs": [],
   "source": [
    "import wradlib as wrl"
   ]
  },
  {
   "cell_type": "code",
   "execution_count": null,
   "id": "020fee70",
   "metadata": {},
   "outputs": [],
   "source": [
    "print(wrl.__version__)"
   ]
  },
  {
   "cell_type": "code",
   "execution_count": null,
   "outputs": [],
   "source": [
    "import _pyhl\n",
    "import _rave\n",
    "import _beamblockage\n",
    "import _ropogenerator\n",
    "import _wrwp\n",
    "import _dr_qc\n",
    "import GmapCreator"
   ],
   "metadata": {}
   }
  }
 ],
 "metadata": {
  "language_info": {
   "codemirror_mode": {
    "name": "ipython",
    "version": 3
   },
   "file_extension": ".py",
   "mimetype": "text/x-python",
   "name": "python",
   "nbconvert_exporter": "python",
   "pygments_lexer": "ipython3",
   "version": "3.10.5"
  }
 },
 "nbformat": 4,
 "nbformat_minor": 5
}